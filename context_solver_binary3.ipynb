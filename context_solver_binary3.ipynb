{
 "cells": [
  {
   "cell_type": "code",
   "execution_count": 1,
   "metadata": {
    "collapsed": false
   },
   "outputs": [
    {
     "name": "stderr",
     "output_type": "stream",
     "text": [
      "Using TensorFlow backend.\n"
     ]
    }
   ],
   "source": [
    "from __future__ import print_function\n",
    "\n",
    "%matplotlib inline\n",
    "\n",
    "#basic op\n",
    "import sys\n",
    "import numpy as np\n",
    "import pandas as pd\n",
    "from collections import Counter\n",
    "from time import time\n",
    "\n",
    "#helper util to read data\n",
    "from chai_deep_net.dna_reader import dna_to_onehot\n",
    "from chai_deep_net.dna_reader import onehot_to_dna\n",
    "\n",
    "#Karas\n",
    "from keras.layers import Input, Dense, Activation, ZeroPadding2D, BatchNormalization, Flatten, Conv2D\n",
    "from keras.layers import AveragePooling2D, MaxPooling2D, Dropout, GlobalMaxPooling2D, GlobalAveragePooling2D\n",
    "from keras.models import Model\n",
    "from keras import backend as K\n",
    "\n",
    "\n",
    "#model adjustment\n",
    "from sklearn.utils import class_weight\n",
    "\n",
    "#visualization\n",
    "import matplotlib.pyplot as plt\n",
    "import seaborn as sns\n",
    "from keras.callbacks import TensorBoard\n",
    "from keras.utils import plot_model\n",
    "from IPython.display import SVG\n",
    "from keras.utils.vis_utils import model_to_dot\n",
    "\n",
    "#understand attribution\n",
    "from deepexplain.tensorflow import DeepExplain\n",
    "\n"
   ]
  },
  {
   "cell_type": "code",
   "execution_count": 2,
   "metadata": {
    "collapsed": true
   },
   "outputs": [],
   "source": [
    "def keras_dna_model(input_shape):\n",
    "    X_input = Input(input_shape)\n",
    "    print(X_input.shape)\n",
    "    X = Flatten()(X_input)\n",
    "    X = Dense(6, activation='relu', name='n1')(X)\n",
    "    X = Dense(1, activation='sigmoid', name='n2')(X)  \n",
    "    model = Model(inputs=X_input, outputs=X, name='keras_dna_model')\n",
    "    return model"
   ]
  },
  {
   "cell_type": "code",
   "execution_count": 5,
   "metadata": {
    "collapsed": false
   },
   "outputs": [
    {
     "name": "stdout",
     "output_type": "stream",
     "text": [
      "number of training examples = 40000\n",
      "X_train shape: (40000, 4, 12, 1)\n",
      "Y_train shape: (40000, 1)\n",
      "X_test shape: (20168, 4, 12, 1)\n",
      "Y_test shape: (20168, 1)\n"
     ]
    }
   ],
   "source": [
    "pre_training_data = open('dataset/training_x').read().strip().split('\\n')\n",
    "X_train = np.expand_dims(np.array(map(np.transpose, map(dna_to_onehot, pre_training_data))), axis=4)\n",
    "Y_train = np.expand_dims(np.array(map(float, open('dataset/training_y').read().strip().split('\\n'))), axis=4)\n",
    "\n",
    "pre_testing_data = open('dataset/test_x').read().strip().split('\\n')\n",
    "X_test = np.expand_dims(np.array(map(np.transpose, map(dna_to_onehot, pre_testing_data))), axis=4)\n",
    "Y_test = np.expand_dims(np.array(map(float, open('dataset/test_y').read().strip().split('\\n'))), axis=4)\n",
    "\n",
    "print (\"number of training examples = \" + str(X_train.shape[0]))\n",
    "print (\"X_train shape: \" + str(X_train.shape))\n",
    "print (\"Y_train shape: \" + str(Y_train.shape))\n",
    "print (\"X_test shape: \" + str(X_test.shape))\n",
    "print (\"Y_test shape: \" + str(Y_test.shape))\n"
   ]
  },
  {
   "cell_type": "code",
   "execution_count": 9,
   "metadata": {
    "collapsed": false
   },
   "outputs": [
    {
     "name": "stdout",
     "output_type": "stream",
     "text": [
      "(?, 4, 12, 1)\n",
      "[ 0.97494394  1.02637791]\n",
      "Train on 32000 samples, validate on 8000 samples\n",
      "Epoch 1/10\n",
      "32000/32000 [==============================] - 1s 30us/step - loss: 0.6594 - acc: 0.6112 - val_loss: 0.6193 - val_acc: 0.6804\n",
      "Epoch 2/10\n",
      "32000/32000 [==============================] - 1s 34us/step - loss: 0.6110 - acc: 0.6806 - val_loss: 0.5858 - val_acc: 0.7103\n",
      "Epoch 3/10\n",
      "32000/32000 [==============================] - 1s 30us/step - loss: 0.5832 - acc: 0.6994 - val_loss: 0.5631 - val_acc: 0.7223\n",
      "Epoch 4/10\n",
      "32000/32000 [==============================] - 1s 28us/step - loss: 0.5642 - acc: 0.7121 - val_loss: 0.5499 - val_acc: 0.7273\n",
      "Epoch 5/10\n",
      "32000/32000 [==============================] - 1s 29us/step - loss: 0.5521 - acc: 0.7172 - val_loss: 0.5410 - val_acc: 0.7311\n",
      "Epoch 6/10\n",
      "32000/32000 [==============================] - 1s 38us/step - loss: 0.5437 - acc: 0.7190 - val_loss: 0.5343 - val_acc: 0.7308\n",
      "Epoch 7/10\n",
      "32000/32000 [==============================] - 1s 31us/step - loss: 0.5382 - acc: 0.7196 - val_loss: 0.5296 - val_acc: 0.7299\n",
      "Epoch 8/10\n",
      "32000/32000 [==============================] - 1s 35us/step - loss: 0.5345 - acc: 0.7201 - val_loss: 0.5265 - val_acc: 0.7312\n",
      "Epoch 9/10\n",
      "32000/32000 [==============================] - 1s 30us/step - loss: 0.5313 - acc: 0.7218 - val_loss: 0.5233 - val_acc: 0.7311\n",
      "Epoch 10/10\n",
      "32000/32000 [==============================] - 1s 29us/step - loss: 0.5291 - acc: 0.7214 - val_loss: 0.5207 - val_acc: 0.7296\n"
     ]
    }
   ],
   "source": [
    "input_dimension = X_train.shape[1:]\n",
    "model = keras_dna_model(input_dimension)\n",
    "model.compile(optimizer='adam', loss='binary_crossentropy', metrics=['accuracy'])\n",
    "\n",
    "#collect data in TensorBoard\n",
    "tensorboard = TensorBoard(log_dir=\"logs/{}\".format(time()))\n",
    "\n",
    "#use weight to address imbalance sample\n",
    "class_weights = class_weight.compute_class_weight('balanced', np.unique(np.squeeze(Y_train, axis=1)),\n",
    "                                                  np.squeeze(Y_train, axis=1))\n",
    "print(class_weights)\n",
    "class_weights = dict(enumerate(class_weights))\n",
    "\n",
    "#fit(train) and save stat in history; callbacks = method to customize training which we ask it to use Tansorboard\n",
    "history = model.fit(X_train, Y_train, epochs=10, batch_size=100, class_weight=class_weights,\n",
    "                    validation_split=0.2, callbacks=[tensorboard])"
   ]
  },
  {
   "cell_type": "code",
   "execution_count": 10,
   "metadata": {
    "collapsed": false
   },
   "outputs": [
    {
     "name": "stdout",
     "output_type": "stream",
     "text": [
      "Counter({0.0: 20514, 1.0: 19486})\n",
      "Counter({1.0: 11047, 0.0: 9121})\n",
      "20168/20168 [==============================] - 0s 1us/step\n",
      "\n",
      "Loss = 0.531195163727\n",
      "Test Accuracy = 0.71444863081\n",
      "_________________________________________________________________\n",
      "Layer (type)                 Output Shape              Param #   \n",
      "=================================================================\n",
      "input_2 (InputLayer)         (None, 4, 12, 1)          0         \n",
      "_________________________________________________________________\n",
      "flatten_2 (Flatten)          (None, 48)                0         \n",
      "_________________________________________________________________\n",
      "n1 (Dense)                   (None, 6)                 294       \n",
      "_________________________________________________________________\n",
      "n2 (Dense)                   (None, 1)                 7         \n",
      "=================================================================\n",
      "Total params: 301\n",
      "Trainable params: 301\n",
      "Non-trainable params: 0\n",
      "_________________________________________________________________\n",
      "['acc', 'loss', 'val_acc', 'val_loss']\n"
     ]
    }
   ],
   "source": [
    "#use predict to sanitize check imbalance class\n",
    "y_prob = model.predict(X_test)\n",
    "rounded = [round(x[0]) for x in y_prob]\n",
    "print(Counter(np.squeeze(Y_train)))\n",
    "print(Counter(rounded))\n",
    "\n",
    "#evaluation\n",
    "preds = model.evaluate(X_test, Y_test, batch_size=20168, verbose=1, sample_weight=None)\n",
    "print()\n",
    "print (\"Loss = \" + str(preds[0]))\n",
    "print (\"Test Accuracy = \" + str(preds[1]))\n",
    "#print model summary\n",
    "model.summary()\n",
    "\n",
    "# list all data in history\n",
    "print(history.history.keys())"
   ]
  },
  {
   "cell_type": "code",
   "execution_count": 11,
   "metadata": {
    "collapsed": false
   },
   "outputs": [
    {
     "data": {
      "image/png": "[encoded data removed]",
      "text/plain": [
       "<Figure size 600x400 with 1 Axes>"
      ]
     },
     "metadata": {},
     "output_type": "display_data"
    },
    {
     "data": {
      "image/png": "[encoded data removed]",
      "text/plain": [
       "<Figure size 600x400 with 1 Axes>"
      ]
     },
     "metadata": {},
     "output_type": "display_data"
    },
    {
     "data": {
      "image/svg+xml": [
       "<svg height=\"264pt\" viewBox=\"0.00 0.00 137.00 264.00\" width=\"137pt\" xmlns=\"http://www.w3.org/2000/svg\" xmlns:xlink=\"http://www.w3.org/1999/xlink\">\n",
       "<g class=\"graph\" id=\"graph0\" transform=\"scale(1 1) rotate(0) translate(4 260)\">\n",
       "<title>G</title>\n",
       "<polygon fill=\"#ffffff\" points=\"-4,4 -4,-260 133,-260 133,4 -4,4\" stroke=\"transparent\"/>\n",
       "<!-- 112172214864 -->\n",
       "<g class=\"node\" id=\"node1\">\n",
       "<title>112172214864</title>\n",
       "<polygon fill=\"none\" points=\"0,-219.5 0,-255.5 129,-255.5 129,-219.5 0,-219.5\" stroke=\"#000000\"/>\n",
       "<text fill=\"#000000\" font-family=\"Times,serif\" font-size=\"14.00\" text-anchor=\"middle\" x=\"64.5\" y=\"-233.8\">input_2: InputLayer</text>\n",
       "</g>\n",
       "<!-- 112172215184 -->\n",
       "<g class=\"node\" id=\"node2\">\n",
       "<title>112172215184</title>\n",
       "<polygon fill=\"none\" points=\"8.5,-146.5 8.5,-182.5 120.5,-182.5 120.5,-146.5 8.5,-146.5\" stroke=\"#000000\"/>\n",
       "<text fill=\"#000000\" font-family=\"Times,serif\" font-size=\"14.00\" text-anchor=\"middle\" x=\"64.5\" y=\"-160.8\">flatten_2: Flatten</text>\n",
       "</g>\n",
       "<!-- 112172214864&#45;&gt;112172215184 -->\n",
       "<g class=\"edge\" id=\"edge1\">\n",
       "<title>112172214864-&gt;112172215184</title>\n",
       "<path d=\"M64.5,-219.4551C64.5,-211.3828 64.5,-201.6764 64.5,-192.6817\" fill=\"none\" stroke=\"#000000\"/>\n",
       "<polygon fill=\"#000000\" points=\"68.0001,-192.5903 64.5,-182.5904 61.0001,-192.5904 68.0001,-192.5903\" stroke=\"#000000\"/>\n",
       "</g>\n",
       "<!-- 112173961680 -->\n",
       "<g class=\"node\" id=\"node3\">\n",
       "<title>112173961680</title>\n",
       "<polygon fill=\"none\" points=\"28,-73.5 28,-109.5 101,-109.5 101,-73.5 28,-73.5\" stroke=\"#000000\"/>\n",
       "<text fill=\"#000000\" font-family=\"Times,serif\" font-size=\"14.00\" text-anchor=\"middle\" x=\"64.5\" y=\"-87.8\">n1: Dense</text>\n",
       "</g>\n",
       "<!-- 112172215184&#45;&gt;112173961680 -->\n",
       "<g class=\"edge\" id=\"edge2\">\n",
       "<title>112172215184-&gt;112173961680</title>\n",
       "<path d=\"M64.5,-146.4551C64.5,-138.3828 64.5,-128.6764 64.5,-119.6817\" fill=\"none\" stroke=\"#000000\"/>\n",
       "<polygon fill=\"#000000\" points=\"68.0001,-119.5903 64.5,-109.5904 61.0001,-119.5904 68.0001,-119.5903\" stroke=\"#000000\"/>\n",
       "</g>\n",
       "<!-- 112174022032 -->\n",
       "<g class=\"node\" id=\"node4\">\n",
       "<title>112174022032</title>\n",
       "<polygon fill=\"none\" points=\"28,-.5 28,-36.5 101,-36.5 101,-.5 28,-.5\" stroke=\"#000000\"/>\n",
       "<text fill=\"#000000\" font-family=\"Times,serif\" font-size=\"14.00\" text-anchor=\"middle\" x=\"64.5\" y=\"-14.8\">n2: Dense</text>\n",
       "</g>\n",
       "<!-- 112173961680&#45;&gt;112174022032 -->\n",
       "<g class=\"edge\" id=\"edge3\">\n",
       "<title>112173961680-&gt;112174022032</title>\n",
       "<path d=\"M64.5,-73.4551C64.5,-65.3828 64.5,-55.6764 64.5,-46.6817\" fill=\"none\" stroke=\"#000000\"/>\n",
       "<polygon fill=\"#000000\" points=\"68.0001,-46.5903 64.5,-36.5904 61.0001,-46.5904 68.0001,-46.5903\" stroke=\"#000000\"/>\n",
       "</g>\n",
       "</g>\n",
       "</svg>"
      ],
      "text/plain": [
       "<IPython.core.display.SVG object>"
      ]
     },
     "execution_count": 11,
     "metadata": {},
     "output_type": "execute_result"
    }
   ],
   "source": [
    "# summarize model performance\n",
    "plt.plot(history.history['acc'])\n",
    "plt.plot(history.history['val_acc'])\n",
    "plt.title('model accuracy')\n",
    "plt.ylabel('accuracy')\n",
    "plt.xlabel('epoch')\n",
    "plt.legend(['train', 'val'], loc='upper left')\n",
    "plt.show()\n",
    "# summarize history for loss\n",
    "plt.plot(history.history['loss'])\n",
    "plt.plot(history.history['val_loss'])\n",
    "plt.title('model loss')\n",
    "plt.ylabel('loss')\n",
    "plt.xlabel('epoch')\n",
    "plt.legend(['train', 'val'], loc='upper left')\n",
    "plt.show()\n",
    "\n",
    "# Keras model visual\n",
    "plot_model(model, to_file='model.png')\n",
    "SVG(model_to_dot(model).create(prog='dot', format='svg'))\n",
    "\n",
    "# tensorflow visual\n",
    "# RUN THIS: tensorboard --logdir=logs\n",
    "# BROWSE THIS: http://0.0.0.0:6006"
   ]
  },
  {
   "cell_type": "code",
   "execution_count": 12,
   "metadata": {
    "collapsed": false
   },
   "outputs": [
    {
     "name": "stdout",
     "output_type": "stream",
     "text": [
      "input_tensors shape2 <class 'tensorflow.python.framework.ops.Tensor'> Tensor(\"input_2:0\", shape=(?, 4, 12, 1), dtype=float32)\n",
      "DeepExplain: running \"grad*input\" explanation method (2)\n",
      "Model with multiple inputs:  False\n"
     ]
    }
   ],
   "source": [
    "#https://github.com/marcoancona/DeepExplain\n",
    "attribution_feature_input=X_test\n",
    "attribution_response_input=Y_test\n",
    "with DeepExplain(session=K.get_session()) as de:\n",
    "    input_tensors = model.layers[0].input\n",
    "    #input_tensors = model.inputs\n",
    "    print('input_tensors shape2', type(input_tensors), input_tensors)\n",
    "    fModel = Model(inputs=input_tensors, outputs=model.outputs)\n",
    "    target_tensors = fModel(input_tensors)\n",
    "    xs = attribution_feature_input\n",
    "    ys = attribution_response_input\n",
    "    #print('actual input',xs.shape, xs)\n",
    "    #print('actual output',ys)\n",
    "    attributions = de.explain('grad*input', target_tensors, input_tensors, xs)"
   ]
  },
  {
   "cell_type": "code",
   "execution_count": 13,
   "metadata": {
    "collapsed": false
   },
   "outputs": [
    {
     "name": "stdout",
     "output_type": "stream",
     "text": [
      "         1         2         3         4         5         6         7   \\\n",
      "A  0.039854  0.097857 -0.047280  0.105982  0.043372 -0.034982 -0.000510   \n",
      "C  0.035692  0.019694  0.007644 -0.002362 -0.029198 -0.091650 -0.072226   \n",
      "G  0.109521  0.035982  0.078836 -0.035220  0.013593 -0.120632 -0.040484   \n",
      "T  0.039796  0.143300  0.010261  0.015218  0.017694 -0.043808  0.001965   \n",
      "\n",
      "         8         9         10        11        12  \n",
      "A  0.036207 -0.022842 -0.056138  0.054562  0.007108  \n",
      "C -0.007079 -0.079981 -0.069825  0.004895  0.006086  \n",
      "G  0.023945 -0.040635 -0.072883  0.012922  0.010718  \n",
      "T  0.037073 -0.048502 -0.078587  0.042446  0.011957  \n"
     ]
    }
   ],
   "source": [
    "sum_attributions=np.sum(attributions,axis=0)\n",
    "sum_attribution_feature_input=np.sum(attribution_feature_input,axis=0)\n",
    "#print('sum_attributions',sum_attributions)\n",
    "#print('sum_attribution_feature_input',sum_attribution_feature_input)\n",
    "attribution_ratio=sum_attributions/sum_attribution_feature_input\n",
    "#print('ratio',attribution_ratio)\n",
    "attribution_ratio=attribution_ratio.squeeze(axis=2)\n",
    "attribution_ratio=pd.DataFrame(attribution_ratio,index=list('ACGT'),columns=range(1,13))\n",
    "print(attribution_ratio)\n",
    "\n"
   ]
  },
  {
   "cell_type": "code",
   "execution_count": 14,
   "metadata": {
    "collapsed": false
   },
   "outputs": [
    {
     "data": {
      "image/png": "[encoded data removed]",
      "text/plain": [
       "<Figure size 600x400 with 2 Axes>"
      ]
     },
     "metadata": {},
     "output_type": "display_data"
    }
   ],
   "source": [
    "ax = sns.heatmap(attribution_ratio, linewidth=0.5,cmap=\"YlGnBu\")\n",
    "plt.show()"
   ]
  },
  {
   "cell_type": "code",
   "execution_count": 40,
   "metadata": {
    "collapsed": true
   },
   "outputs": [],
   "source": []
  },
  {
   "cell_type": "code",
   "execution_count": null,
   "metadata": {
    "collapsed": true
   },
   "outputs": [],
   "source": []
  }
 ],
 "metadata": {
  "kernelspec": {
   "display_name": "Python 2",
   "language": "python",
   "name": "python2"
  },
  "language_info": {
   "codemirror_mode": {
    "name": "ipython",
    "version": 2
   },
   "file_extension": ".py",
   "mimetype": "text/x-python",
   "name": "python",
   "nbconvert_exporter": "python",
   "pygments_lexer": "ipython2",
   "version": "2.7.13"
  }
 },
 "nbformat": 4,
 "nbformat_minor": 0
}
